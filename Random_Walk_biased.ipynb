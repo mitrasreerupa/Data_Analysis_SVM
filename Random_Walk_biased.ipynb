{
  "nbformat": 4,
  "nbformat_minor": 0,
  "metadata": {
    "colab": {
      "provenance": []
    },
    "kernelspec": {
      "name": "python3",
      "display_name": "Python 3"
    },
    "language_info": {
      "name": "python"
    }
  },
  "cells": [
    {
      "cell_type": "code",
      "execution_count": null,
      "metadata": {
        "id": "PHdrUyBkypxk"
      },
      "outputs": [],
      "source": [
        "import random\n",
        "from matplotlib import pyplot\n",
        "from math import sqrt\n",
        "def rw(n):\n",
        "  x=0\n",
        "  y=0\n",
        "  d=[]\n",
        "  for i in range(n):\n",
        "    step = random.choice(['N','S','E','W'])\n",
        "    if(step == 'N'):\n",
        "      y+=0.5\n",
        "      d.append('N')\n",
        "    elif(step == 'S'):\n",
        "      y-=2                      #The walk is biased in the South, so we add an extra value\n",
        "      d.append('S')\n",
        "    elif(step == 'E'):\n",
        "      x+=1\n",
        "      d.append('E')\n",
        "    elif(step == 'W'):\n",
        "      x-=1\n",
        "      d.append('W')\n",
        "    s=d.count('S')\n",
        "  return (x,y,s)\n",
        "X=[]\n",
        "Y=[]\n",
        "for days in range(10):\n",
        "  walk = rw(20)        #increasing the random walks will increase the distance from the origin\n",
        "  X.append(walk[0])\n",
        "  Y.append(walk[1])\n",
        "  print(walk, \"Distance from origin\",sqrt(walk[0]**2 + walk[1]**2) )\n",
        "print(walk[2])\n",
        "pyplot.plot(X,Y,marker=\".\")\n",
        "pyplot.xlim(-30,30)\n",
        "pyplot.ylim(-30,30)\n",
        "pyplot.plot([0,0],[-30,30], linewidth=1, color='red' )\n",
        "pyplot.plot([-30,30],[0,0], linewidth=1, color='red' )\n",
        "#pyplot.boxplot(x,y)\n",
        "pyplot.show()\n",
        "  #change to Euclidean distance from origin"
      ]
    }
  ]
}